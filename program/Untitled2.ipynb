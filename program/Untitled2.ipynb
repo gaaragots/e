{
 "cells": [
  {
   "cell_type": "code",
   "execution_count": 1,
   "metadata": {
    "collapsed": false
   },
   "outputs": [],
   "source": [
    "import pandas as pd\n",
    "from sklearn.feature_extraction.text import TfidfVectorizer\n",
    "from sklearn.cluster import KMeans\n",
    "from deps.util import log_to_file, tokeniser, save_model, load_model\n",
    "import os.path\n",
    "from sklearn.model_selection import train_test_split\n",
    "from dbn.models import UnsupervisedDBN"
   ]
  },
  {
   "cell_type": "code",
   "execution_count": 2,
   "metadata": {
    "collapsed": false
   },
   "outputs": [
    {
     "name": "stdout",
     "output_type": "stream",
     "text": [
      "(1682, 25)\n",
      "(1345, 25) (337, 25)\n",
      "(1345, 5000)\n"
     ]
    }
   ],
   "source": [
    "@log_to_file('example.log')\n",
    "def main():\n",
    "    # 0. read data and splite it to 80% for training and 20% for testing\n",
    "    items = pd.read_csv('input/items.csv', sep=';', encoding='ISO-8859-1')\n",
    "    \n",
    "    print items.shape\n",
    "    \n",
    "    items_train, items_test = train_test_split(items, train_size=0.8, random_state=0)\n",
    "    \n",
    "    print items_train.shape, items_test.shape\n",
    "\n",
    "\n",
    "    # 1. train tf-idf model and save it under model/tf-idf-model.pickle with the result\n",
    "    if not os.path.isfile('model/tfidf_model.pickle'):\n",
    "        print('traning tf-idf model ...')\n",
    "        tfidf_model = TfidfVectorizer(norm='l2',min_df=0, use_idf=True,max_features=5000, smooth_idf=False, sublinear_tf=True, tokenizer=tokeniser)\n",
    "        item_feature_matrix = tfidf_model.fit_transform(items_train['movie desription'].values.astype('U'))\n",
    "        print('#1. dimension of the item-feature matrix', item_feature_matrix.shape)\n",
    "\n",
    "        # 1.1 saving tf-idf model\n",
    "        print('Saving tf-idf model ...')\n",
    "        save_model('model/tfidf_model.pickle', tfidf_model)\n",
    "    \n",
    "    if not os.path.isfile('result/item_feature_matrix.pickle'):\n",
    "        # 1.2. saving tf-idf matrix result\n",
    "        print('Saving tf-idf matrix result ...')\n",
    "        save_model('result/item_feature_matrix.pickle', item_feature_matrix)\n",
    "\n",
    "    # 2. train dbn model and save the model into model/dbn.pickle\n",
    "    # 2.1. load tf-idf result\n",
    "    print('loading item feature matrix ...')\n",
    "    item_feature_matrix = load_model('result/item_feature_matrix.pickle')\n",
    "    \n",
    "    if not os.path.isfile('model/dbn-model.pkl'):\n",
    "        dbn = UnsupervisedDBN(hidden_layers_structure=[15171, 4000],\n",
    "                              batch_size=10,\n",
    "                              learning_rate_rbm=0.06,\n",
    "                              n_epochs_rbm=20,\n",
    "                              activation_function='sigmoid')\n",
    "        # 2.2. fit dbn model\n",
    "        #dbn.fit(item_feature_matrix.A)\n",
    "        # 2.3. save dbn model\n",
    "        print('saving DBN model ...')\n",
    "        dbn.save('model/dbn-model.pkl')\n",
    "        \n",
    "    print('Loadin DBN model')\n",
    "    dbn = UnsupervisedDBN.load('model/dbn-model.pkl')\n",
    "\n",
    "    # 3. Clustering with k-mens and save model and results\n",
    "    if not os.path.isfile('model/kmeans-model.pkl'):\n",
    "        kmeans = KMeans(n_clusters=5, random_state=0).fit(dbn.transform(item_feature_matrix.A))\n",
    "        print('saving k-means model ...')\n",
    "        save_model('model/kmeans-model.pkl', kmeans)\n",
    "    else:\n",
    "        kmeans = load_model('model/kmeans-model.pkl')\n",
    "    \n",
    "    print(kmeans.labels_)\n",
    "    \n",
    "\n",
    "if __name__ == '__main__':\n",
    "    main()"
   ]
  },
  {
   "cell_type": "code",
   "execution_count": null,
   "metadata": {
    "collapsed": true
   },
   "outputs": [],
   "source": []
  }
 ],
 "metadata": {
  "kernelspec": {
   "display_name": "Python 2",
   "language": "python",
   "name": "python2"
  },
  "language_info": {
   "codemirror_mode": {
    "name": "ipython",
    "version": 2
   },
   "file_extension": ".py",
   "mimetype": "text/x-python",
   "name": "python",
   "nbconvert_exporter": "python",
   "pygments_lexer": "ipython2",
   "version": "2.7.13"
  }
 },
 "nbformat": 4,
 "nbformat_minor": 2
}
